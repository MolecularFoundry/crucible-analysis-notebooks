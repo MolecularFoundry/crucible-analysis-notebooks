{
  "nbformat": 4,
  "nbformat_minor": 0,
  "metadata": {
    "colab": {
      "provenance": []
    },
    "kernelspec": {
      "name": "python3",
      "display_name": "Python 3"
    },
    "language_info": {
      "name": "python"
    }
  },
  "cells": [
    {
      "cell_type": "markdown",
      "source": [
        "# Crucible TEM data viewer\n",
        "\n",
        "This notebook provides an interactive widget to look through many types of TEM data in a Crucible Google Drive folder. It is designed to work with Google Colab.\n",
        "\n",
        "Note: Only images are currently supported. Spectra, 3D, and 4D data sets are not supported.\n",
        "\n",
        "author: Peter Ercius, percius@lbl.gov"
      ],
      "metadata": {
        "id": "S53cBKZCMI28"
      }
    },
    {
      "cell_type": "code",
      "source": [
        "!pip install -q ipympl ncempy==1.11.3"
      ],
      "metadata": {
        "id": "VSA9UzHjN_J4"
      },
      "execution_count": null,
      "outputs": []
    },
    {
      "cell_type": "code",
      "source": [
        "%matplotlib widget"
      ],
      "metadata": {
        "id": "ha8tqhkZOHhd"
      },
      "execution_count": null,
      "outputs": []
    },
    {
      "cell_type": "code",
      "source": [
        "# Allow access to your Google Drive\n",
        "from google.colab import drive\n",
        "drive.mount('/content/drive')\n",
        "\n",
        "# Allow interactive plots\n",
        "from google.colab import output\n",
        "output.enable_custom_widget_manager()"
      ],
      "metadata": {
        "id": "UBKXBdL7KWii"
      },
      "execution_count": null,
      "outputs": []
    },
    {
      "cell_type": "code",
      "execution_count": null,
      "metadata": {
        "id": "Ur-eJTsFSZff"
      },
      "outputs": [],
      "source": [
        "# Necessary imports\n",
        "# %matplotlib widget\n",
        "from pathlib import Path\n",
        "\n",
        "import matplotlib.pyplot as plt\n",
        "import numpy as np\n",
        "\n",
        "import ipywidgets as widgets\n",
        "from IPython.display import display\n",
        "from ipywidgets import interact, interactive\n",
        "\n",
        "import ncempy\n",
        "\n",
        "# Supported data types (using ncempy.read())\n",
        "types = ('.emd', '.ser', '.dm3', '.dm4')"
      ]
    },
    {
      "cell_type": "markdown",
      "source": [
        "## User input required\n",
        " - Set `dir_path` to the base path a Shared Drive folder\n",
        "   - example: /content/drive/Shareddrives/MFP012345/Datasets"
      ],
      "metadata": {
        "id": "do-ytIZIMptd"
      }
    },
    {
      "cell_type": "code",
      "source": [
        "dir_path = Path('/content/drive/Shareddrives/MFP09699/Datasets') # change!\n",
        "\n",
        "all_files = []\n",
        "for data_type in types:\n",
        "    type_files = dir_path.glob('**/*' + data_type)\n",
        "    all_files.extend(list(type_files))\n",
        "\n",
        "scanid_tree = {}\n",
        "for file in all_files:\n",
        "    scanid_tree[file.stem] = file\n",
        "\n",
        "print(f'Found {len(scanid_tree)} files')"
      ],
      "metadata": {
        "id": "zRZ1WU9pTmzl"
      },
      "execution_count": null,
      "outputs": []
    },
    {
      "cell_type": "markdown",
      "source": [
        "## Interactive data browser\n",
        " - All datasets in the Shared Drive folder are listed in teh dropdown by file name\n",
        " - Please be patient. Google Colab interactivity can be slow"
      ],
      "metadata": {
        "id": "9TPg1O7sNJ67"
      }
    },
    {
      "cell_type": "code",
      "source": [
        "global imax1, ax1\n",
        "\n",
        "data = ncempy.read(scanid_tree[next(iter(scanid_tree))])\n",
        "\n",
        "fg1, ax1 = plt.subplots(1,1,figsize=(8,8))\n",
        "ndim = data['data'].ndim\n",
        "imax1 = ax1.imshow(np.random.rand(10,10)) # Set the initial image and intensity scaling\n",
        "ax1.set(xlabel='X ({})'.format(data['pixelUnit'][0]),\n",
        "        ylabel='Y ({})'.format(data['pixelUnit'][1]));\n",
        "\n",
        "# Updates the plot\n",
        "def axUpdate(scanid):\n",
        "    global imax1, ax1\n",
        "    print(f'Loading {scanid_tree[str(scanid)].name}')\n",
        "    data = ncempy.read(scanid_tree[str(scanid)])\n",
        "    print(f'Data shape: {data[\"data\"].shape}')\n",
        "    ax1.cla() # need to clear each time due to heterogeneous data\n",
        "\n",
        "    # Handle 3D data. Only the first image is shown\n",
        "    if data['data'].ndim == 2:\n",
        "        im = data['data']\n",
        "        ix = 0\n",
        "        iy = 1\n",
        "    elif data['data'].ndim == 3:\n",
        "        im = data['data'][0,:,:]\n",
        "        ix = 1\n",
        "        iy = 2\n",
        "    else:\n",
        "        print('File {}: data not supported'.format(scanid))\n",
        "        return\n",
        "\n",
        "    imax1 = ax1.imshow(im)\n",
        "    fovX = data['pixelSize'][ix]*data['data'].shape[ix]\n",
        "    fovY = data['pixelSize'][iy]*data['data'].shape[iy]\n",
        "    imax1.set_extent((0, fovX, fovY, 0))\n",
        "    ax1.set(xlabel='X ({})'.format(data['pixelUnit'][ix]),\n",
        "            ylabel='Y ({})'.format(data['pixelUnit'][iy]),\n",
        "            title=f'{scanid_tree[str(scanid)].name}')\n",
        "    fg1.canvas.draw()\n",
        "\n",
        "# Create the slider to update the plot\n",
        "w = interactive(axUpdate, scanid=scanid_tree.keys())\n",
        "out = widgets.Output(layout={'border': '1px solid black'})\n",
        "display(w)"
      ],
      "metadata": {
        "id": "BftbbRy7arLX"
      },
      "execution_count": null,
      "outputs": []
    },
    {
      "cell_type": "code",
      "source": [],
      "metadata": {
        "id": "NsKBXpiZVTEo"
      },
      "execution_count": null,
      "outputs": []
    }
  ]
}
