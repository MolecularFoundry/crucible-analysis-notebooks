{
  "nbformat": 4,
  "nbformat_minor": 0,
  "metadata": {
    "colab": {
      "provenance": [],
      "include_colab_link": true
    },
    "kernelspec": {
      "name": "python3",
      "display_name": "Python 3"
    },
    "language_info": {
      "name": "python"
    }
  },
  "cells": [
    {
      "cell_type": "markdown",
      "metadata": {
        "id": "view-in-github",
        "colab_type": "text"
      },
      "source": [
        "<a href=\"https://colab.research.google.com/github/MolecularFoundry/crucible-analysis-notebooks/blob/main/hyperspec-analysis/Hyperspectral_Explorer.ipynb\" target=\"_parent\"><img src=\"https://colab.research.google.com/assets/colab-badge.svg\" alt=\"Open In Colab\"/></a>"
      ]
    },
    {
      "cell_type": "markdown",
      "source": [
        "\n",
        "# Hyperspectral Confocal Microscopy Exploration and Plotting\n",
        "\n",
        "This notebook is designed to analyze `hyperspec_picam_mcl` datasets from the `hip_microscope` confocal optical microscope in the Imaging Facility at the Molecular Foundry. The principles and code in this notebook can also be used to analyze other hyperspectral datasets, with some minor changes to loading of the `spec_map`, `h_array`,`v_arra`y, and `wls` data arrays."
      ],
      "metadata": {
        "id": "OfmDitnj2v58"
      }
    },
    {
      "cell_type": "markdown",
      "source": [
        "## Initial Setup"
      ],
      "metadata": {
        "id": "uSyup4JH5Tv4"
      }
    },
    {
      "cell_type": "code",
      "source": [
        "# For the default Google CoLab python enivronment,\n",
        "# we need to install required packages that are not included by\n",
        "# default. Note this step takes ~30seconds\n",
        "# If this fails, remove the \"> /dev/null\" and try again to see the errors\n",
        "!pip install jupyter_bokeh  > /dev/null"
      ],
      "metadata": {
        "id": "tiC5a0qd3NBy"
      },
      "execution_count": null,
      "outputs": []
    },
    {
      "cell_type": "code",
      "source": [
        "# For Google CoLab, in order to access datasets store on Google Drive,\n",
        "# we must mount the drives on the filesystem. This will ask for your\n",
        "# permission to share your Google Drive with this notebook\n",
        "from google.colab import drive\n",
        "drive.mount('/content/drive')"
      ],
      "metadata": {
        "id": "JSdPdq-H4VSb"
      },
      "execution_count": null,
      "outputs": []
    },
    {
      "cell_type": "code",
      "source": [
        "# To use interactive widgets in CoLab\n",
        "from google.colab import output\n",
        "output.enable_custom_widget_manager()"
      ],
      "metadata": {
        "id": "PnRevoUU5FNn"
      },
      "execution_count": null,
      "outputs": []
    },
    {
      "cell_type": "code",
      "source": [
        "# Required imports\n",
        "import h5py\n",
        "import numpy as np\n",
        "import pandas as pd\n",
        "import os\n",
        "import glob\n",
        "import matplotlib.pyplot as plt\n",
        "import holoviews as hv\n",
        "hv.extension('bokeh')\n"
      ],
      "metadata": {
        "id": "gQnISkgP41rM"
      },
      "execution_count": null,
      "outputs": []
    },
    {
      "cell_type": "markdown",
      "source": [
        "## Loading your Data File"
      ],
      "metadata": {
        "id": "o7CvoodV5aLx"
      }
    },
    {
      "cell_type": "code",
      "source": [
        "project_id = \"MFP09238\""
      ],
      "metadata": {
        "id": "zWasWHwfG49q"
      },
      "execution_count": null,
      "outputs": []
    },
    {
      "cell_type": "code",
      "source": [
        "dataset_options = glob.glob(f\"/content/drive/Shareddrives/{project_id}/Datasets/*/*.h5\")\n",
        "\n",
        "print(\"Datasets found at the path above are: \")\n",
        "for ds in dataset_options:\n",
        "  print(ds)"
      ],
      "metadata": {
        "id": "-jDIxa6lG5CQ"
      },
      "execution_count": null,
      "outputs": []
    },
    {
      "cell_type": "code",
      "source": [
        "# Edit the location of the dataset you want to analyze (you can copy and paste from the output above)\n",
        "\n",
        "file_path = \"\""
      ],
      "metadata": {
        "id": "aefHx0J-G5GZ"
      },
      "execution_count": null,
      "outputs": []
    },
    {
      "cell_type": "code",
      "source": [
        "# Load ScopeFoundry HDF5\n",
        "with h5py.File(file_path, 'r') as f:\n",
        "    M = f['measurement/hyperspec_picam_mcl']\n",
        "    # 3D array of spectra (2D spatial dimensions)\n",
        "    spec_map = np.array(M['spec_map'])[0]\n",
        "    # positions of data points in um along x (horizontal) axis\n",
        "    h_array = np.array(M['h_array'])\n",
        "    # positions of data points in um along y (vertical) axis\n",
        "    v_array = np.array(M['v_array'])\n",
        "    # wavelengths of spectral values\n",
        "    wls = np.array(M['wls'])\n",
        "    # bounds of image\n",
        "    imshow_extent = np.array(M['imshow_extent'])"
      ],
      "metadata": {
        "id": "VPWhpha05yQ0"
      },
      "execution_count": null,
      "outputs": []
    },
    {
      "cell_type": "markdown",
      "source": [
        "## Plot Intensity Maps and Spectra\n"
      ],
      "metadata": {
        "id": "ph4iS6ZB-J7T"
      }
    },
    {
      "cell_type": "code",
      "source": [
        "img = spec_map.sum(axis=-1)\n",
        "plt.figure()\n",
        "vmin,vmax = np.percentile(img, [1,99])\n",
        "plt.imshow(img, origin='lower',vmin=vmin,vmax=vmax)\n",
        "plt.colorbar()"
      ],
      "metadata": {
        "id": "r5ssXl0o-rZj"
      },
      "execution_count": null,
      "outputs": []
    },
    {
      "cell_type": "code",
      "source": [
        "avg_spec = spec_map.mean(axis=(0,1))\n",
        "plt.figure()\n",
        "plt.plot(wls, avg_spec)\n",
        "plt.xlabel(\"wls\")\n",
        "plt.ylabel(\"intensity\")"
      ],
      "metadata": {
        "id": "a_nMlGq4_OCh"
      },
      "execution_count": null,
      "outputs": []
    },
    {
      "cell_type": "markdown",
      "source": [
        "## Band Pass Images"
      ],
      "metadata": {
        "id": "nb5if0kv-sTg"
      }
    },
    {
      "cell_type": "code",
      "source": [
        "wl0 = 500 # Starting wavelength in nm\n",
        "wl1 = 600 # Ending wavelength in nm\n",
        "\n",
        "kk0,kk1 = np.searchsorted(wls, (wl0,wl1))\n",
        "bandpass_image = spec_map[:,:,kk0:kk1].sum(axis=-1)\n",
        "plt.figure()\n",
        "\n",
        "vmin,vmax = np.percentile(bandpass_image, [1,99])\n",
        "plt.imshow(bandpass_image, origin='lower',vmin=vmin,vmax=vmax, cmap=plt.cm.magma)\n",
        "plt.colorbar()"
      ],
      "metadata": {
        "id": "0i4uGKug-SJt"
      },
      "execution_count": null,
      "outputs": []
    },
    {
      "cell_type": "markdown",
      "source": [
        "## Interactive Data Exploration"
      ],
      "metadata": {
        "id": "izJ0qi9T_qgH"
      }
    },
    {
      "cell_type": "code",
      "source": [
        "df = pd.DataFrame()\n",
        "\n",
        "Ny, Nx, Nspec = spec_map.shape\n",
        "X,Y = np.meshgrid(h_array,v_array)\n",
        "II,JJ = np.meshgrid(np.arange(Nx), np.arange(Ny))\n",
        "II.reshape(-1).shape\n",
        "all_spectra = spec_map.reshape(-1,Nspec)\n",
        "df['x']  = X.reshape(-1)\n",
        "df['y']  = Y.reshape(-1)\n",
        "df['ii'] = II.reshape(-1)\n",
        "df['jj'] = JJ.reshape(-1)\n",
        "df['total_intensity'] = spec_map.sum(axis=-1).reshape(-1)\n",
        "\n",
        "df.head()\n"
      ],
      "metadata": {
        "id": "672xRNkfV-MX"
      },
      "execution_count": null,
      "outputs": []
    },
    {
      "cell_type": "code",
      "source": [],
      "metadata": {
        "id": "4DexB3QiZdxV"
      },
      "execution_count": null,
      "outputs": []
    },
    {
      "cell_type": "code",
      "source": [
        "hv.extension('bokeh')\n",
        "from holoviews import opts\n",
        "from holoviews.streams import Selection1D\n",
        "\n",
        "df2 = df[['x','y']]\n",
        "\n",
        "opts.defaults(opts.Points(tools=['box_select', 'lasso_select']))\n",
        "\n",
        "point_map = hv.Points(df)\n",
        "\n",
        "wlsmin = range(0,int(max(wls)-1))\n",
        "wlsmax = range(1, int(max(wls)))\n",
        "kdims = [hv.Dimension('wlsmin', label = 'Min. Wavelength', range = (int(min(wls)),int(max(wls)-1)), default=int(min(wls))),\n",
        "         hv.Dimension('wlsmax', label = 'Max Wavelength', range = (int(min(wls)+1), int(max(wls))), default=int(max(wls)))]\n",
        "\n",
        "index_stream = Selection1D(source=point_map)\n",
        "print(index_stream)\n",
        "\n",
        "def spec_map_bandpass_hvImage(wlsmin,wlsmax):\n",
        "  kk0,kk1 = np.searchsorted(wls, [wlsmin, wlsmax])\n",
        "  im = spec_map[:,:,kk0:kk1].mean(axis=-1)\n",
        "  hvIm = hv.Image((h_array,v_array,im))\n",
        "  hvIm.opts(aspect = \"equal\", cmap = \"plasma\")\n",
        "  return hvIm\n",
        "\n",
        "\n",
        "def selected_info(index):\n",
        "    selected = point_map.iloc[index]\n",
        "    #print(len(index), selected)\n",
        "    #print(df.iloc[index])\n",
        "    #specs = features[index] # N x Nspec\n",
        "    #mean_spec = specs.mean(axis=0)\n",
        "    #if index:\n",
        "    #    label = 'Mean x, y: {}, {}'.format( tuple(selected.array().mean(axis=0)))\n",
        "    #else:\n",
        "    #label = 'No selection'\n",
        "    #return selected.relabel(label).opts(color='red')\n",
        "    return selected\n",
        "\n",
        "selected_box = hv.DynamicMap(selected_info,\n",
        "                              streams=[index_stream])\n",
        "\n",
        "def select_spec(index):\n",
        "  #print(index)\n",
        "  if index == []:\n",
        "    index = [0,]\n",
        "  specs = all_spectra[index] # N x Nspec\n",
        "  #print(specs.shape)\n",
        "  mean_spec = specs.mean(axis=0)\n",
        "  return hv.Curve(pd.DataFrame({'wls':wls,'intensity':mean_spec}))\n",
        "\n",
        "spec_dmap = hv.DynamicMap(select_spec, streams=[index_stream])\n",
        "\n",
        "dyn_specmap = hv.DynamicMap(spec_map_bandpass_hvImage, kdims=kdims)\n",
        "\n",
        "\n",
        "\n",
        "lo = ( dyn_specmap * point_map)   + spec_dmap\n",
        "display(lo)\n"
      ],
      "metadata": {
        "id": "cWb-1mM-_unO"
      },
      "execution_count": null,
      "outputs": []
    },
    {
      "cell_type": "code",
      "source": [
        "# Use selected spectra\n",
        "selected_spec_indexes = index_stream.contents['index']\n",
        "selected_specs = all_spectra[selected_spec_indexes]\n",
        "print(f\"Selected {len(selected_spec_indexes)} spectra\")\n",
        "spec_rows = df.iloc[selected_spec_indexes]\n",
        "\n",
        "plt.figure()\n",
        "plt.imshow(spec_map.sum(axis=-1),origin='lower',extent=imshow_extent)\n",
        "plt.scatter(spec_rows['x'], spec_rows['y'], color='w', marker='x')\n",
        "plt.gca().set_aspect(1)\n",
        "plt.figure()\n",
        "for i in selected_spec_indexes:\n",
        "  row = df.iloc[i]\n",
        "  plt.plot(all_spectra[i], label=f\"{i} [{row['x']}, {row['y']}]\")\n",
        "plt.plot(selected_specs.mean(axis=0), label='mean spectrum')\n",
        "\n",
        "if len(selected_spec_indexes) < 15:\n",
        "  plt.legend()"
      ],
      "metadata": {
        "id": "i1GuP4Gte0TZ"
      },
      "execution_count": null,
      "outputs": []
    },
    {
      "cell_type": "code",
      "source": [],
      "metadata": {
        "id": "uF9GIdhCg7nI"
      },
      "execution_count": null,
      "outputs": []
    }
  ]
}