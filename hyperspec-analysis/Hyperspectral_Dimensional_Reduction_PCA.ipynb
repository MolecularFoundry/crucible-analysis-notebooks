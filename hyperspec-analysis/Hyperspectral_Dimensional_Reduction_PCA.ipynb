{
 "cells": [
  {
   "cell_type": "markdown",
   "metadata": {
    "colab_type": "text",
    "id": "view-in-github"
   },
   "source": [
    "<a href=\"https://colab.research.google.com/github/MolecularFoundry/HyperspecAnalysis/blob/main/Hyperspectral_Dimensional_Reduction_PCA.ipynb\" target=\"_parent\"><img src=\"https://colab.research.google.com/assets/colab-badge.svg\" alt=\"Open In Colab\"/></a>"
   ]
  },
  {
   "cell_type": "markdown",
   "metadata": {
    "id": "zuCr4cBfjx5y"
   },
   "source": [
    "\n",
    "# Hyperspectral Confocal Microscopy  Dimensional Reduction with PCA\n",
    "\n",
    "This notebook is designed to analyze `hyperspec_picam_mcl` datasets from the `hip_microscope` confocal optical microscope in the Imaging Facility at the Molecular Foundry. The principles and code in this notebook can also be used to analyze other hyperspectral datasets, with some minor changes to loading of the `spec_map`, `h_array`,`v_arra`y, and `wls` data arrays.\n",
    "\n"
   ]
  },
  {
   "cell_type": "markdown",
   "metadata": {
    "id": "kEc5oHd62JA8"
   },
   "source": [
    "## Initial Setup"
   ]
  },
  {
   "cell_type": "code",
   "execution_count": null,
   "metadata": {
    "colab": {
     "base_uri": "https://localhost:8080/"
    },
    "id": "n5lJ4MlDkEh_",
    "outputId": "add16109-a910-44e4-d714-e2019d3fdd2c"
   },
   "outputs": [],
   "source": [
    "# For Google CoLab, in order to access datasets store on Google Drive,\n",
    "# we must mount the drives on the filesystem. This will ask for your\n",
    "# permission to share your Google Drive with this notebook\n",
    "from google.colab import drive\n",
    "drive.mount('/content/drive')"
   ]
  },
  {
   "cell_type": "code",
   "execution_count": null,
   "metadata": {
    "id": "ni6oJFW1kIcp"
   },
   "outputs": [],
   "source": [
    "# To use interactive widgets in CoLab\n",
    "from google.colab import output\n",
    "output.enable_custom_widget_manager()"
   ]
  },
  {
   "cell_type": "code",
   "execution_count": null,
   "metadata": {
    "colab": {
     "base_uri": "https://localhost:8080/",
     "height": 42
    },
    "id": "8Xzi7WFykSYM",
    "outputId": "aeeeaa78-b66c-426b-d994-6abfb224fcbc"
   },
   "outputs": [],
   "source": [
    "# Required imports\n",
    "import h5py\n",
    "import numpy as np\n",
    "import pandas as pd\n",
    "import os\n",
    "import matplotlib.pyplot as plt\n",
    "import holoviews as hv\n",
    "hv.extension('bokeh')\n"
   ]
  },
  {
   "cell_type": "markdown",
   "metadata": {
    "id": "XOX_UqYmkZ5y"
   },
   "source": [
    "## Loading your Data File"
   ]
  },
  {
   "cell_type": "code",
   "execution_count": null,
   "metadata": {},
   "outputs": [],
   "source": [
    "project_id = \"MFP09238\""
   ]
  },
  {
   "cell_type": "code",
   "execution_count": null,
   "metadata": {},
   "outputs": [],
   "source": [
    "dataset_options = glob.glob(f\"/content/drive/Shareddrives/{project_id}/Datasets/*/*.h5\")\n",
    "\n",
    "print(\"Datasets found at the path above are: \")\n",
    "for ds in dataset_options:\n",
    "  print(ds)"
   ]
  },
  {
   "cell_type": "code",
   "execution_count": null,
   "metadata": {
    "id": "EKZ2xJBVkabp"
   },
   "outputs": [],
   "source": [
    "# Edit the location of the dataset you want to analyze (you can copy and paste from the output above)\n",
    "\n",
    "file_path = \"\""
   ]
  },
  {
   "cell_type": "code",
   "execution_count": null,
   "metadata": {
    "id": "RpY2qATlkcyf"
   },
   "outputs": [],
   "source": [
    "# Load ScopeFoundry HDF5\n",
    "with h5py.File(file_path, 'r') as f:\n",
    "    M = f['measurement/hyperspec_picam_mcl']\n",
    "    # 3D array of spectra (2D spatial dimensions)\n",
    "    spec_map = np.array(M['spec_map'])[0]\n",
    "    # positions of data points in um along x (horizontal) axis\n",
    "    h_array = np.array(M['h_array'])\n",
    "    # positions of data points in um along y (vertical) axis\n",
    "    v_array = np.array(M['v_array'])\n",
    "    # wavelengths of spectral values\n",
    "    wls = np.array(M['wls'])\n",
    "    # bounds of image\n",
    "    imshow_extent = np.array(M['imshow_extent'])"
   ]
  },
  {
   "cell_type": "code",
   "execution_count": null,
   "metadata": {
    "colab": {
     "base_uri": "https://localhost:8080/",
     "height": 350
    },
    "id": "Pm7OELMqkfBk",
    "outputId": "156558aa-3330-4f60-b477-0703a4b5b5d4"
   },
   "outputs": [],
   "source": [
    "# Store spectra as a flat list and table\n",
    "df = pd.DataFrame()\n",
    "\n",
    "Ny, Nx, Nspec = spec_map.shape\n",
    "X,Y = np.meshgrid(h_array,v_array)\n",
    "II,JJ = np.meshgrid(np.arange(Nx), np.arange(Ny))\n",
    "II.reshape(-1).shape\n",
    "all_spectra = spec_map.reshape(-1,Nspec)\n",
    "df['x']  = X.reshape(-1)\n",
    "df['y']  = Y.reshape(-1)\n",
    "df['ii'] = II.reshape(-1)\n",
    "df['jj'] = JJ.reshape(-1)\n",
    "df['total_intensity'] = spec_map.sum(axis=-1).reshape(-1)\n",
    "\n",
    "display(\"all_spectra:\",all_spectra)\n",
    "df.head()"
   ]
  },
  {
   "cell_type": "markdown",
   "metadata": {
    "id": "UgZwnD-0lALj"
   },
   "source": [
    "## Plot Image and Spectra"
   ]
  },
  {
   "cell_type": "code",
   "execution_count": null,
   "metadata": {
    "colab": {
     "base_uri": "https://localhost:8080/",
     "height": 463
    },
    "id": "arHjO3_flDXl",
    "outputId": "1575c551-4d99-4ddf-ea52-c064a311fd31"
   },
   "outputs": [],
   "source": [
    "img = spec_map.sum(axis=-1)\n",
    "plt.figure()\n",
    "vmin,vmax = np.percentile(img, [1,99])\n",
    "plt.imshow(img, extent=imshow_extent, origin='lower',vmin=vmin,vmax=vmax)\n",
    "plt.colorbar()"
   ]
  },
  {
   "cell_type": "code",
   "execution_count": null,
   "metadata": {
    "colab": {
     "base_uri": "https://localhost:8080/",
     "height": 467
    },
    "id": "qKMX0zI3lDuF",
    "outputId": "a1dcba0a-f304-403a-976d-b683a6ec05d4"
   },
   "outputs": [],
   "source": [
    "avg_spec = spec_map.mean(axis=(0,1))\n",
    "plt.figure()\n",
    "plt.plot(wls, avg_spec)\n",
    "plt.xlabel(\"wls\")\n",
    "plt.ylabel(\"intensity\")"
   ]
  },
  {
   "cell_type": "code",
   "execution_count": null,
   "metadata": {
    "id": "yxLHVhOmlUQF"
   },
   "outputs": [],
   "source": []
  },
  {
   "cell_type": "markdown",
   "metadata": {
    "id": "hTzpGKb2oT7B"
   },
   "source": [
    "# Principal Component Analysis"
   ]
  },
  {
   "cell_type": "code",
   "execution_count": null,
   "metadata": {
    "id": "NdOZ30q5oZEb"
   },
   "outputs": [],
   "source": [
    "# Import Scikit Learn PCA\n",
    "from sklearn.decomposition import PCA\n",
    "from sklearn.preprocessing import StandardScaler"
   ]
  },
  {
   "cell_type": "code",
   "execution_count": null,
   "metadata": {
    "colab": {
     "base_uri": "https://localhost:8080/",
     "height": 352
    },
    "id": "tyfzBZV_oZgx",
    "outputId": "97981f44-d08f-405d-9951-930ce947a57e"
   },
   "outputs": [],
   "source": [
    "hv.extension('bokeh')\n",
    "# Peform PCA on data\n",
    "scaledf = StandardScaler().fit_transform(all_spectra)\n",
    "pca1 = PCA(random_state = 833)\n",
    "pca1.fit(scaledf)\n",
    "pca_var_df = pd.DataFrame({\"component\":range(0,pca1.n_components_ ), \"exp_var_ratio\":pca1.explained_variance_ratio_})\n",
    "# Plot the Explain Variance ratio of the first 20 PCA componenents\n",
    "pca_var = hv.Scatter(pca_var_df.iloc[0:20, :], kdims = [\"component\"], vdims = ['exp_var_ratio'])\n",
    "pca_var.opts(size = 6)\n",
    "display(pca_var)"
   ]
  },
  {
   "cell_type": "code",
   "execution_count": null,
   "metadata": {
    "colab": {
     "base_uri": "https://localhost:8080/",
     "height": 424
    },
    "id": "iVwS26UuokV5",
    "outputId": "3310af52-9b71-47ca-b18d-b01d2c6cb2b6"
   },
   "outputs": [],
   "source": [
    "# compute component weights on all spectra\n",
    "N_components = 10\n",
    "pca_transform = pca1.transform(scaledf)\n",
    "pcadf = pd.DataFrame(data = pca_transform[:,:N_components], columns = [f'PC{str(int(x))}' for x in range(0,N_components)])\n",
    "\n",
    "spectra_df_with_pca = pd.concat([df,pcadf],axis=1, join=\"inner\")\n",
    "display(spectra_df_with_pca)"
   ]
  },
  {
   "cell_type": "code",
   "execution_count": null,
   "metadata": {
    "colab": {
     "base_uri": "https://localhost:8080/",
     "height": 448
    },
    "id": "iMXMc6Seyw1t",
    "outputId": "5c455fe9-333c-48b7-c2ce-fb42cd00abd5"
   },
   "outputs": [],
   "source": [
    "# Display the components\n",
    "N_components = 3\n",
    "for i in range(N_components):\n",
    "  plt.plot(wls, pca1.components_[i,:], label=f\"PCA Component {i}\")\n",
    "plt.legend()"
   ]
  },
  {
   "cell_type": "code",
   "execution_count": null,
   "metadata": {
    "colab": {
     "base_uri": "https://localhost:8080/",
     "height": 675
    },
    "id": "swFuxhcVrUV7",
    "outputId": "08b40382-d85e-4c7f-d769-b4e169532da2"
   },
   "outputs": [],
   "source": [
    "# PCA component correlation plots\n",
    "plt.figure(figsize=(8,8))\n",
    "for i in range(4):\n",
    "  for j in range(4):\n",
    "      plt.subplot(4,4,4*j+i+1)\n",
    "      plt.title( f\"PC{i} vs PC{j}\")\n",
    "      plt.scatter(spectra_df_with_pca[f'PC{i}'], spectra_df_with_pca[f'PC{j}'], marker='.')\n",
    "      plt.tick_params(left = False, right = False , labelleft = False ,\n",
    "                      labelbottom = False, bottom = False)"
   ]
  },
  {
   "cell_type": "code",
   "execution_count": null,
   "metadata": {
    "colab": {
     "base_uri": "https://localhost:8080/",
     "height": 675
    },
    "id": "gireynzRyvz0",
    "outputId": "16d9412a-5596-4841-d0b3-0504b9c532df"
   },
   "outputs": [],
   "source": [
    "# PCA component ratio images\n",
    "Ny, Nx, Nspec = spec_map.shape\n",
    "\n",
    "plt.figure(figsize=(8,8))\n",
    "for i in range(4):\n",
    "  for j in range(4):\n",
    "      plt.subplot(4,4,4*j+i+1)\n",
    "      plt.title( f\"PC{i} vs PC{j}\")\n",
    "\n",
    "      PCi_map = np.array(spectra_df_with_pca[f'PC{i}']).reshape(Ny,Nx)\n",
    "      PCj_map = np.array(spectra_df_with_pca[f'PC{j}']).reshape(Ny,Nx)\n",
    "\n",
    "      ratio_map = PCj_map/PCi_map\n",
    "      vmin,vmax = np.percentile(ratio_map, [5,95])\n",
    "      plt.imshow(ratio_map, origin='lower', vmin=vmin,vmax=vmax)\n",
    "      plt.tick_params(left = False, right = False , labelleft = False ,\n",
    "                      labelbottom = False, bottom = False)"
   ]
  },
  {
   "cell_type": "code",
   "execution_count": null,
   "metadata": {
    "id": "rmpSrDBq0DKJ"
   },
   "outputs": [],
   "source": []
  }
 ],
 "metadata": {
  "colab": {
   "authorship_tag": "ABX9TyM0KOH2uUrwWfzDOX9o88Qr",
   "include_colab_link": true,
   "provenance": []
  },
  "kernelspec": {
   "display_name": "Python 3 (ipykernel)",
   "language": "python",
   "name": "python3"
  },
  "language_info": {
   "codemirror_mode": {
    "name": "ipython",
    "version": 3
   },
   "file_extension": ".py",
   "mimetype": "text/x-python",
   "name": "python",
   "nbconvert_exporter": "python",
   "pygments_lexer": "ipython3",
   "version": "3.10.13"
  }
 },
 "nbformat": 4,
 "nbformat_minor": 4
}
