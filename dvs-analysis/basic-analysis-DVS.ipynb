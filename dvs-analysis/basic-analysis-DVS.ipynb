{
 "cells": [
  {
   "cell_type": "markdown",
   "id": "1c13a759",
   "metadata": {
    "colab_type": "text",
    "id": "view-in-github"
   },
   "source": [
    "<a href=\"https://colab.research.google.com/github/MolecularFoundry/crucible-analysis-notebooks/blob/main/dvs-analysis/basic-analysis-DVS.ipynb\" target=\"_parent\"><img src=\"https://colab.research.google.com/assets/colab-badge.svg\" alt=\"Open In Colab\"/></a>"
   ]
  },
  {
   "cell_type": "code",
   "execution_count": null,
   "id": "09859bca-a25e-4195-9bca-031c7829f85e",
   "metadata": {
    "id": "09859bca-a25e-4195-9bca-031c7829f85e"
   },
   "outputs": [],
   "source": [
    "import pandas as pd\n",
    "import matplotlib.pyplot as plt"
   ]
  },
  {
   "cell_type": "code",
   "execution_count": null,
   "id": "d5dd1e80-b4b3-46d4-bd24-701b2eb60563",
   "metadata": {},
   "outputs": [],
   "source": [
    "project_id = \"MFP09238\""
   ]
  },
  {
   "cell_type": "code",
   "execution_count": null,
   "id": "74fa4abb-678f-4553-9ce9-c47aac93a99e",
   "metadata": {
    "id": "74fa4abb-678f-4553-9ce9-c47aac93a99e"
   },
   "outputs": [],
   "source": [
    "dataset_options = glob.glob(f\"/content/drive/Shareddrives/{project_id}/Datasets/*/*.xls\")\n",
    "\n",
    "print(\"Datasets found at the path above are: \")\n",
    "for ds in dataset_options:\n",
    "  print(ds)"
   ]
  },
  {
   "cell_type": "code",
   "execution_count": null,
   "id": "0fce484e-ea27-4379-bda7-c2a1d0b3089f",
   "metadata": {},
   "outputs": [],
   "source": [
    "dsname = \"\" # copy and paste one of the dataset paths from above"
   ]
  },
  {
   "cell_type": "code",
   "execution_count": null,
   "id": "2fe5b9a6-bae8-49d9-889d-e887da753659",
   "metadata": {
    "id": "2fe5b9a6-bae8-49d9-889d-e887da753659"
   },
   "outputs": [],
   "source": [
    "tmp = pd.read_excel(dsname,\n",
    "       sheet_name = \"DVS Data\",\n",
    "       index_col = 0,\n",
    "       header= None,\n",
    "       usecols= [0,1])\n",
    "\n",
    "num_rows = tmp.loc['Data Start Row:', 1]\n",
    "df = pd.read_excel(dsname, sheet_name = \"DVS Data\",\n",
    "                   skiprows = (num_rows - 2)) #(header will one be before data start row and don't skip it : ))\n"
   ]
  },
  {
   "cell_type": "code",
   "execution_count": null,
   "id": "456517f4-0486-4d4a-9874-b5cc40847ed4",
   "metadata": {
    "id": "456517f4-0486-4d4a-9874-b5cc40847ed4",
    "outputId": "5747c78c-3e05-4ac5-ce82-d932b08b3650"
   },
   "outputs": [],
   "source": [
    "df.columns"
   ]
  },
  {
   "cell_type": "code",
   "execution_count": null,
   "id": "abd5b2a3-e327-4773-807d-28cf7f05483d",
   "metadata": {
    "id": "abd5b2a3-e327-4773-807d-28cf7f05483d",
    "outputId": "2876e2b3-e860-4f7e-e28a-daff4a62449b"
   },
   "outputs": [],
   "source": [
    "fig,ax = plt.subplots()\n",
    "ax.plot(df['Time [minutes]'], df['dm (%) - ref'], \"r\", label = 'Change in Mass % ref')\n",
    "ax.set_xlabel(\"Time (m)\")\n",
    "ax.set_ylabel(\"Change in Mass % ref\")\n",
    "ax.set_ylim([-10,50])\n",
    "ax2 = ax.twinx()\n",
    "ax2.plot(df['Time [minutes]'], df['Target Partial Pressure (Solvent A) [%]'], label = 'Target P/Po %')\n",
    "ax2.set_ylabel(\"Target P/Po %\")\n",
    "ax2.set_ylim([0,120])\n",
    "\n",
    "ax.legend(loc = 0)\n",
    "ax2.legend(loc = 2)"
   ]
  }
 ],
 "metadata": {
  "colab": {
   "include_colab_link": true,
   "provenance": []
  },
  "kernelspec": {
   "display_name": "Python 3 (ipykernel)",
   "language": "python",
   "name": "python3"
  },
  "language_info": {
   "codemirror_mode": {
    "name": "ipython",
    "version": 3
   },
   "file_extension": ".py",
   "mimetype": "text/x-python",
   "name": "python",
   "nbconvert_exporter": "python",
   "pygments_lexer": "ipython3",
   "version": "3.10.13"
  }
 },
 "nbformat": 4,
 "nbformat_minor": 5
}
