{
  "cells": [
    {
      "cell_type": "markdown",
      "metadata": {
        "id": "view-in-github",
        "colab_type": "text"
      },
      "source": [
        "<a href=\"https://colab.research.google.com/github/MolecularFoundry/crucible-analysis-notebooks/blob/main/dvs-analysis/basic-analysis-DVS.ipynb\" target=\"_parent\"><img src=\"https://colab.research.google.com/assets/colab-badge.svg\" alt=\"Open In Colab\"/></a>"
      ]
    },
    {
      "cell_type": "code",
      "execution_count": 4,
      "id": "09859bca-a25e-4195-9bca-031c7829f85e",
      "metadata": {
        "id": "09859bca-a25e-4195-9bca-031c7829f85e"
      },
      "outputs": [],
      "source": [
        "import pandas as pd\n",
        "import matplotlib.pyplot as plt\n",
        "import glob"
      ]
    },
    {
      "cell_type": "code",
      "execution_count": 5,
      "id": "d5dd1e80-b4b3-46d4-bd24-701b2eb60563",
      "metadata": {
        "id": "d5dd1e80-b4b3-46d4-bd24-701b2eb60563"
      },
      "outputs": [],
      "source": [
        "project_id = \"MFP09238\""
      ]
    },
    {
      "cell_type": "code",
      "source": [
        "from google.colab import drive\n",
        "drive.mount('/content/drive')"
      ],
      "metadata": {
        "id": "sYkEgD7g71k_",
        "outputId": "722abd20-3a49-46e6-debf-55008bd9bace",
        "colab": {
          "base_uri": "https://localhost:8080/"
        }
      },
      "id": "sYkEgD7g71k_",
      "execution_count": 7,
      "outputs": [
        {
          "output_type": "stream",
          "name": "stdout",
          "text": [
            "Mounted at /content/drive\n"
          ]
        }
      ]
    },
    {
      "cell_type": "code",
      "execution_count": 8,
      "id": "74fa4abb-678f-4553-9ce9-c47aac93a99e",
      "metadata": {
        "id": "74fa4abb-678f-4553-9ce9-c47aac93a99e",
        "outputId": "78a9e18a-9308-422f-cb7c-ad2aea262435",
        "colab": {
          "base_uri": "https://localhost:8080/"
        }
      },
      "outputs": [
        {
          "output_type": "stream",
          "name": "stdout",
          "text": [
            "Datasets found at the path above are: \n",
            "/content/drive/Shareddrives/MFP09238/Datasets/0sn06e2rhntzz0002nr58z3bv8/test-kw-parse.xls\n"
          ]
        }
      ],
      "source": [
        "dataset_options = glob.glob(f\"/content/drive/Shareddrives/{project_id}/Datasets/*/*.xls\")\n",
        "\n",
        "print(\"Datasets found at the path above are: \")\n",
        "for ds in dataset_options:\n",
        "  print(ds)"
      ]
    },
    {
      "cell_type": "code",
      "execution_count": 9,
      "id": "0fce484e-ea27-4379-bda7-c2a1d0b3089f",
      "metadata": {
        "id": "0fce484e-ea27-4379-bda7-c2a1d0b3089f"
      },
      "outputs": [],
      "source": [
        "dsname = \"/content/drive/Shareddrives/MFP09238/Datasets/0sn06e2rhntzz0002nr58z3bv8/test-kw-parse.xls\" # copy and paste one of the dataset paths from above"
      ]
    },
    {
      "cell_type": "code",
      "execution_count": 10,
      "id": "2fe5b9a6-bae8-49d9-889d-e887da753659",
      "metadata": {
        "id": "2fe5b9a6-bae8-49d9-889d-e887da753659"
      },
      "outputs": [],
      "source": [
        "tmp = pd.read_excel(dsname,\n",
        "       sheet_name = \"DVS Data\",\n",
        "       index_col = 0,\n",
        "       header= None,\n",
        "       usecols= [0,1])\n",
        "\n",
        "num_rows = tmp.loc['Data Start Row:', 1]\n",
        "df = pd.read_excel(dsname, sheet_name = \"DVS Data\",\n",
        "                   skiprows = (num_rows - 2)) #(header will one be before data start row and don't skip it : ))\n"
      ]
    },
    {
      "cell_type": "code",
      "execution_count": 11,
      "id": "456517f4-0486-4d4a-9874-b5cc40847ed4",
      "metadata": {
        "id": "456517f4-0486-4d4a-9874-b5cc40847ed4",
        "outputId": "489e7288-49ec-461f-c415-0abbf6489e4f",
        "colab": {
          "base_uri": "https://localhost:8080/"
        }
      },
      "outputs": [
        {
          "output_type": "execute_result",
          "data": {
            "text/plain": [
              "Index(['Time [minutes]', 'Mass [mg]', 'Delta Mass [%]', 'dm/dt [%/minute]',\n",
              "       'Target Incubator Temp. [celsius]',\n",
              "       'Measured Incubator Temp. [celsius]',\n",
              "       'Target Preheater Temp. [celsius]',\n",
              "       'Measured Preheater Temp. [celsius]', 'Sorption Temp. [celsius]',\n",
              "       'Target Partial Pressure (Solvent A) [%]',\n",
              "       'Measured Partial Pressure (Solvent A) [%]',\n",
              "       'Target Partial Pressure (Solvent B) [%]',\n",
              "       'Measured Partial Pressure (Solvent B) [%]', 'Total Gas Flow [sccm]',\n",
              "       'Target Wet Gas Flow (Solvent A) [sccm]',\n",
              "       'Actual Wet Gas Flow (Solvent A) [sccm]',\n",
              "       'Target Dry Gas Flow (Solvent A) [sccm]',\n",
              "       'Actual Dry Gas Flow (Solvent A) [sccm]',\n",
              "       'Target Wet Gas Flow (Solvent B) [sccm]',\n",
              "       'Actual Wet Gas Flow (Solvent B) [sccm]',\n",
              "       'Target Dry Gas Flow (Solvent B) [sccm]',\n",
              "       'Actual Dry Gas Flow (Solvent B) [sccm]', 'dm (%) - ref',\n",
              "       'User Defined 1', 'User Defined 2', 'Unnamed: 25',\n",
              "       'Target PP/100 (Solvent A)', 'Actual PP/100 (Solvent A)',\n",
              "       'Target PP/100 (Solvent B)', 'Actual PP/100 (Solvent B)', 'Unnamed: 30',\n",
              "       'Unnamed: 31', 'Unnamed: 32', 'Unnamed: 33', 'Unnamed: 34',\n",
              "       'Unnamed: 35', 'Unnamed: 36', 'Unnamed: 37', 'Unnamed: 38',\n",
              "       'Unnamed: 39', 'Unnamed: 40', 'Unnamed: 41', 'Unnamed: 42',\n",
              "       'Unnamed: 43', 'Unnamed: 44', 'Unnamed: 45', 'Unnamed: 46',\n",
              "       'Unnamed: 47', 'Unnamed: 48', 'Unnamed: 49', 'Unnamed: 50',\n",
              "       'Unnamed: 51', 'Unnamed: 52', 'Unnamed: 53', 'Unnamed: 54',\n",
              "       'Unnamed: 55', 'Unnamed: 56', 'Unnamed: 57', 'Unnamed: 58',\n",
              "       'Unnamed: 59', 'Unnamed: 60', 'Unnamed: 61', 'Unnamed: 62',\n",
              "       'Unnamed: 63', 'Unnamed: 64', 'Unnamed: 65', 'Unnamed: 66',\n",
              "       'Unnamed: 67', 'Unnamed: 68', 'Unnamed: 69', 'Unnamed: 70',\n",
              "       'Unnamed: 71', 'Unnamed: 72', 'Unnamed: 73', 'Unnamed: 74',\n",
              "       'Unnamed: 75', 'Unnamed: 76', 'Unnamed: 77', 'Unnamed: 78',\n",
              "       'Unnamed: 79', 'Unnamed: 80', 'Unnamed: 81', 'Unnamed: 82',\n",
              "       'Unnamed: 83', 'Unnamed: 84', 'Target Chiller Temp. [celsius]',\n",
              "       'Measured Chiller Temp. [celsius]',\n",
              "       'Measured Chiller Internal Temp. [celsius]', 'Chiller State',\n",
              "       'Gas Concentration (Sensor A) [ppm]',\n",
              "       'Gas Concentration (Sensor B) [ppm]'],\n",
              "      dtype='object')"
            ]
          },
          "metadata": {},
          "execution_count": 11
        }
      ],
      "source": [
        "df.columns"
      ]
    },
    {
      "cell_type": "code",
      "execution_count": 21,
      "id": "abd5b2a3-e327-4773-807d-28cf7f05483d",
      "metadata": {
        "id": "abd5b2a3-e327-4773-807d-28cf7f05483d",
        "outputId": "cfd974d6-53ea-45e3-df95-60e7a4b1f557",
        "colab": {
          "base_uri": "https://localhost:8080/",
          "height": 472
        }
      },
      "outputs": [
        {
          "output_type": "execute_result",
          "data": {
            "text/plain": [
              "<matplotlib.legend.Legend at 0x78b09975f3d0>"
            ]
          },
          "metadata": {},
          "execution_count": 21
        },
        {
          "output_type": "display_data",
          "data": {
            "text/plain": [
              "<Figure size 640x480 with 2 Axes>"
            ],
            "image/png": "[encoded data removed]"
          },
          "metadata": {}
        }
      ],
      "source": [
        "fig,ax = plt.subplots()\n",
        "ax.plot(df['Time [minutes]'], df['dm (%) - ref'], \"r\", label = 'Change in Mass % ref')\n",
        "ax.set_xlabel(\"Time (m)\")\n",
        "ax.set_ylabel(\"Change in Mass % ref\")\n",
        "ax.set_ylim([-10,60])\n",
        "\n",
        "ax2 = ax.twinx()\n",
        "ax2.plot(df['Time [minutes]'], df['Target Partial Pressure (Solvent A) [%]'], label = 'Target P/Po %')\n",
        "ax2.set_ylabel(\"Target P/Po %\")\n",
        "ax2.set_ylim([0,120])\n",
        "\n",
        "ax.legend(loc = 2)\n",
        "ax2.legend(loc = 0)"
      ]
    }
  ],
  "metadata": {
    "colab": {
      "provenance": [],
      "include_colab_link": true
    },
    "kernelspec": {
      "display_name": "Python 3 (ipykernel)",
      "language": "python",
      "name": "python3"
    },
    "language_info": {
      "codemirror_mode": {
        "name": "ipython",
        "version": 3
      },
      "file_extension": ".py",
      "mimetype": "text/x-python",
      "name": "python",
      "nbconvert_exporter": "python",
      "pygments_lexer": "ipython3",
      "version": "3.10.13"
    }
  },
  "nbformat": 4,
  "nbformat_minor": 5
}