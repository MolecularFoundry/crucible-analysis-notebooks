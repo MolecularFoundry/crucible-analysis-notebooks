{
  "cells": [
    {
      "cell_type": "markdown",
      "metadata": {
        "id": "view-in-github",
        "colab_type": "text"
      },
      "source": [
        "<a href=\"https://colab.research.google.com/github/MolecularFoundry/crucible-analysis-notebooks/blob/main/connect_to_scicat.ipynb\" target=\"_parent\"><img src=\"https://colab.research.google.com/assets/colab-badge.svg\" alt=\"Open In Colab\"/></a>"
      ]
    },
    {
      "cell_type": "markdown",
      "id": "4213d133-4f1f-47c8-8a17-bc8997dbae26",
      "metadata": {
        "id": "4213d133-4f1f-47c8-8a17-bc8997dbae26"
      },
      "source": [
        "### Environment Set Up"
      ]
    },
    {
      "cell_type": "code",
      "execution_count": null,
      "id": "bdd42d9f-20a7-4388-9774-be5c888cc4d9",
      "metadata": {
        "collapsed": true,
        "jupyter": {
          "outputs_hidden": true
        },
        "id": "bdd42d9f-20a7-4388-9774-be5c888cc4d9"
      },
      "outputs": [],
      "source": [
        "# install pyscicat\n",
        "!pip install git+https://github.com/MolecularFoundry/pyscicat.git@e3e4d3467e571ea0517936ec3e65a76890683eb8"
      ]
    },
    {
      "cell_type": "code",
      "execution_count": null,
      "id": "28f0fd58-e974-4b37-afbe-4af41b1a4136",
      "metadata": {
        "id": "28f0fd58-e974-4b37-afbe-4af41b1a4136"
      },
      "outputs": [],
      "source": [
        "# load packages\n",
        "from pyscicat.client import from_token, from_credentials, ScicatClient\n",
        "from pyscicat.model import Ownable, RawDataset, DerivedDataset, CreateDatasetOrigDatablockDto, Attachment, DataFile, Proposal, Instrument"
      ]
    },
    {
      "cell_type": "markdown",
      "id": "56361c33-a545-4367-b72f-b0e7541482c4",
      "metadata": {
        "id": "56361c33-a545-4367-b72f-b0e7541482c4"
      },
      "source": [
        "### Connect to SciCat"
      ]
    },
    {
      "cell_type": "markdown",
      "id": "e3870b23-4399-444d-a22e-cccad8816644",
      "metadata": {
        "id": "e3870b23-4399-444d-a22e-cccad8816644"
      },
      "source": [
        "To find your scicat API token:\n",
        "1. Login to scicat with your ORCiD information: https://mf-scicat.lbl.gov\n",
        "2. In the top right hand corner, click on the black and white profile icon\n",
        "3. From the drop down menu choose \"Settings\"\n",
        "4. In Settings you should see a field called \"SciCat Token\" - copy and paste that value to the cell below\n",
        "   <br> <b>*** this is your unique password. Do not save the code to a public place without removing your token from the notebook</b>"
      ]
    },
    {
      "cell_type": "code",
      "execution_count": null,
      "id": "f30d9ca1-b9c2-40d8-b33f-3fd3872daf57",
      "metadata": {
        "id": "f30d9ca1-b9c2-40d8-b33f-3fd3872daf57"
      },
      "outputs": [],
      "source": [
        "scicat_url = \"https://mf-scicat.lbl.gov/api/v3/\"\n",
        "token = \"\""
      ]
    },
    {
      "cell_type": "code",
      "execution_count": null,
      "id": "c864ed9e-1d05-47f0-9910-986c1d33b4a9",
      "metadata": {
        "id": "c864ed9e-1d05-47f0-9910-986c1d33b4a9"
      },
      "outputs": [],
      "source": [
        " scicat_client = from_token(scicat_url, token = token)"
      ]
    },
    {
      "cell_type": "markdown",
      "id": "bbcc6da1-bdcd-45a6-9998-3fb887f54eaa",
      "metadata": {
        "id": "bbcc6da1-bdcd-45a6-9998-3fb887f54eaa"
      },
      "source": [
        "### Example Queries\n",
        "\n",
        "Feel free to modify the criteria below or add additional queries. <br>Documentation about the pyscicat API is available at the following links: <br> https://scicatproject.github.io/pyscicat/<br> https://mf-scicat.lbl.gov/explorer"
      ]
    },
    {
      "cell_type": "code",
      "execution_count": null,
      "id": "785542f0-86c9-43c1-9101-46bd46ee16ba",
      "metadata": {
        "collapsed": true,
        "jupyter": {
          "outputs_hidden": true
        },
        "id": "785542f0-86c9-43c1-9101-46bd46ee16ba"
      },
      "outputs": [],
      "source": [
        "# All Datasets you have access to:\n",
        "my_datasets = scicat_client.get_datasets()\n",
        "for x in my_datasets:\n",
        "    print(f\"Dataset {x['datasetName']} with uuid {x['pid']}\")\n",
        "    # print(f\"Owner is {x['ownerGroup']}\")\n",
        "    # print(f\"Proposal is {x['proposalId']}\")\n",
        "    # pub_status = \"not public\" if x['isPublished'] is False else 'public'\n",
        "    # print(f\"Dataset is {pub_status}\\n\\n\")"
      ]
    },
    {
      "cell_type": "code",
      "execution_count": null,
      "id": "addd76fd-892f-4fbd-946c-e4b89302da15",
      "metadata": {
        "collapsed": true,
        "jupyter": {
          "outputs_hidden": true
        },
        "id": "addd76fd-892f-4fbd-946c-e4b89302da15"
      },
      "outputs": [],
      "source": [
        "# All Datasets for a given proposal:\n",
        "mfp8540_datasets = scicat_client.get_datasets(filter_fields = {'proposalId':'MFP08540'})\n",
        "for x in mfp8540_datasets:\n",
        "    print(f\"Dataset {x['datasetName']} with uuid {x['pid']}\")"
      ]
    },
    {
      "cell_type": "code",
      "execution_count": null,
      "id": "7de995db-5966-4c56-9cd8-f126a59cf3fc",
      "metadata": {
        "collapsed": true,
        "jupyter": {
          "outputs_hidden": true
        },
        "id": "7de995db-5966-4c56-9cd8-f126a59cf3fc"
      },
      "outputs": [],
      "source": [
        "# All Datasets tagged with a keyword:\n",
        "hipms_datasets = scicat_client.get_datasets(filter_fields = {'keywords': {'like': 'picam'}})\n",
        "for x in hipms_datasets:\n",
        "    print(f\"Dataset {x['datasetName']} with uuid {x['pid']}\")"
      ]
    },
    {
      "cell_type": "code",
      "execution_count": null,
      "id": "7db4fde8-d8ce-4213-b8cb-764291503fb8",
      "metadata": {
        "id": "7db4fde8-d8ce-4213-b8cb-764291503fb8"
      },
      "outputs": [],
      "source": [
        "# All Datasets tagged with a keyword:\n",
        "hipms_datasets = scicat_client.get_datasets(filter_fields = {'keywords': {'like': 'picam'}})\n",
        "for x in hipms_datasets:\n",
        "    print(f\"Dataset {x['datasetName']} with uuid {x['pid']}\")"
      ]
    },
    {
      "cell_type": "code",
      "execution_count": null,
      "id": "90b9b61a-9dcd-49f9-90ec-5b623ae0d4c2",
      "metadata": {
        "id": "90b9b61a-9dcd-49f9-90ec-5b623ae0d4c2"
      },
      "outputs": [],
      "source": [
        "# All Datasets tagged with a keyword:\n",
        "hipms_datasets = scicat_client.get_datasets(filter_fields = {'scientificMetadata.app.name': {'like': 'Hip_Microscope'}})\n",
        "for x in hipms_datasets:\n",
        "    print(f\"Dataset {x['datasetName']} with uuid {x['pid']}\")"
      ]
    },
    {
      "cell_type": "code",
      "execution_count": null,
      "id": "e5cc3508-3f8a-4e76-b497-20512ba98571",
      "metadata": {
        "id": "e5cc3508-3f8a-4e76-b497-20512ba98571"
      },
      "outputs": [],
      "source": [
        "# All Datasets containing some text:\n",
        "hipms_datasets = scicat_client.datasets_find(query_fields = {'scientificMetadata.app.name': 'HiP_Microscope'})\n",
        "for x in hipms_datasets:\n",
        "    print(f\"Dataset {x['datasetName']} with uuid {x['pid']}\")"
      ]
    },
    {
      "cell_type": "code",
      "execution_count": null,
      "id": "f04eeddf-62e2-4c57-8286-9d04b414019b",
      "metadata": {
        "id": "f04eeddf-62e2-4c57-8286-9d04b414019b"
      },
      "outputs": [],
      "source": [
        "# All Datasets with acton_spectrometer center wavelength greater than 540\n",
        "hipms_datasets = scicat_client.datasets_find(query_fields = {'scientificMetadata.hardware.acton_spectrometer.settings.center_wl': {'$gt': 540}})\n",
        "for x in hipms_datasets:\n",
        "    print(f\"Dataset {x['datasetName']} with uuid {x['pid']}\")"
      ]
    },
    {
      "cell_type": "code",
      "execution_count": null,
      "id": "e3bbe57c-3030-484a-978e-7e3864aff91d",
      "metadata": {
        "collapsed": true,
        "jupyter": {
          "outputs_hidden": true
        },
        "id": "e3bbe57c-3030-484a-978e-7e3864aff91d"
      },
      "outputs": [],
      "source": [
        "# All Datasets with acton_spectrometer center wavelength greater than 540\n",
        "hipms_datasets = scicat_client.datasets_find(limit = 1000, query_fields = {'scientificMetadata.hardware.acton_spectrometer.settings.center_wl': {'$gt': 500.000}})\n",
        "for x in hipms_datasets:\n",
        "    print(f\"Dataset {x['datasetName']} with uuid {x['pid']}\")"
      ]
    }
  ],
  "metadata": {
    "kernelspec": {
      "display_name": "Python 3 (ipykernel)",
      "language": "python",
      "name": "python3"
    },
    "language_info": {
      "codemirror_mode": {
        "name": "ipython",
        "version": 3
      },
      "file_extension": ".py",
      "mimetype": "text/x-python",
      "name": "python",
      "nbconvert_exporter": "python",
      "pygments_lexer": "ipython3",
      "version": "3.10.13"
    },
    "colab": {
      "provenance": [],
      "include_colab_link": true
    }
  },
  "nbformat": 4,
  "nbformat_minor": 5
}