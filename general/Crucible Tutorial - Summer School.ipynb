{
 "cells": [
  {
   "cell_type": "markdown",
   "metadata": {},
   "source": [
    "# Pycrucible Tutorial\n",
    "\n",
    "This tutorial demonstrates how to use the pycrucible client to manage data through the Crucible Platform:\n",
    "- Retrieve your user crucible API key\n",
    "- Upload datasets to Crucible with automated metadata parsing\n",
    "- Upload datasets to Crucible with manually curated metadata appended\n",
    "- Associate datasets with batches\n",
    "- Query datasets by batch, sample\n",
    "- Query samples by batch, dataset\n",
    "- Upload sample synthesis metadata\n",
    "- Download data\n",
    "- Generate AutoBot batch report"
   ]
  },
  {
   "cell_type": "code",
   "execution_count": null,
   "metadata": {},
   "outputs": [],
   "source": [
    "import os\n",
    "import json\n",
    "from datetime import datetime\n",
    "from pycrucible import CrucibleClient\n",
    "import uuid\n",
    "from typing import List, Dict\n",
    "import pprint"
   ]
  },
  {
   "cell_type": "markdown",
   "metadata": {},
   "source": [
    "#### Step 1: Set up the Crucible Python Client"
   ]
  },
  {
   "cell_type": "markdown",
   "metadata": {},
   "source": [
    "In a web browser navigate to https://crucible.lbl.gov/testapi/user_apikey.  You will be prompted to login with your ORCID.  Login to ORCID and copy the resulting apikey to an environment variable. "
   ]
  },
  {
   "cell_type": "code",
   "execution_count": null,
   "metadata": {},
   "outputs": [],
   "source": [
    "# Configuration - Update these with your credentials\n",
    "API_URL = \"https://crucible.lbl.gov/testapi\"  # Replace with your API URL\n",
    "API_KEY = os.getenv('CRUCIBLE_APIKEY')\n",
    "\n",
    "# Initialize the client\n",
    "client = CrucibleClient(API_URL, API_KEY)\n",
    "print(\"Crucible client initialized successfully!\")"
   ]
  },
  {
   "cell_type": "markdown",
   "metadata": {},
   "source": [
    "#### Step 2: Use the Crucible python client to upload and ingest a batch of SpecRun datasets"
   ]
  },
  {
   "cell_type": "code",
   "execution_count": null,
   "metadata": {},
   "outputs": [],
   "source": [
    "data_folder = \"tutorial_data/inline_characterization\"\n",
    "h5_files = [f for f in os.listdir(data_folder) if f.endswith('spec_run.h5')]\n",
    "\n",
    "for h5file in h5_files[0:1]:\n",
    "    h5 = os.path.join(data_folder, h5file)\n",
    "    print(h5)\n",
    "    ds = client.build_new_dataset_from_file(files_to_upload = [h5],\n",
    "                                            dataset_name = f\"mkw-{os.path.basename(h5)}\",\n",
    "                                            ingestor = \"SpinbotSpecRunIngestor\",\n",
    "                                            verbose = False)"
   ]
  },
  {
   "cell_type": "markdown",
   "metadata": {},
   "source": [
    "##### Check out the data you just uploaded"
   ]
  },
  {
   "cell_type": "code",
   "execution_count": null,
   "metadata": {},
   "outputs": [],
   "source": [
    "found_ds = client.get_dataset('0t4pt8d375vt70006zph06dfh0', include_metadata=True)\n",
    "pprint.pprint(found_ds)"
   ]
  },
  {
   "cell_type": "code",
   "execution_count": null,
   "metadata": {},
   "outputs": [],
   "source": [
    "# should make a client func for ingesting from dsid\n",
    "client.list_datasets(file_to_upload = 'api-uploads/tutorial_data/inline_characterization/yrliu98_S-pMeMBAI-pre-2_1_5_run1_spec_run.h5')"
   ]
  },
  {
   "cell_type": "code",
   "execution_count": null,
   "metadata": {},
   "outputs": [],
   "source": [
    "# query by dataset\n",
    "client.list_samples(dataset_id = '0t4ps2dvydsfq000ar7vs9nrr8')"
   ]
  },
  {
   "cell_type": "code",
   "execution_count": null,
   "metadata": {},
   "outputs": [],
   "source": [
    "batch_id = '0t3h7ymbm5s27000z6tt82zvx4'"
   ]
  },
  {
   "cell_type": "code",
   "execution_count": null,
   "metadata": {},
   "outputs": [],
   "source": [
    "# query by batch id\n",
    "client.list_samples(parent_id = batch_id)"
   ]
  },
  {
   "cell_type": "code",
   "execution_count": null,
   "metadata": {},
   "outputs": [],
   "source": [
    "# see all datasets for a batch\n",
    "client.list_datasets(sample_id = batch_id)"
   ]
  },
  {
   "cell_type": "markdown",
   "metadata": {},
   "source": [
    "#### Step 3: Send the dataset information to the data catalog (SciCat)"
   ]
  },
  {
   "cell_type": "code",
   "execution_count": null,
   "metadata": {},
   "outputs": [],
   "source": [
    "client.send_to_scicat(dsid = '0t4qtjskj9sjv000n56t1x66j0', wait_for_scicat_response= True)"
   ]
  },
  {
   "cell_type": "markdown",
   "metadata": {},
   "source": [
    "Go to https://mf-scicat.lbl.gov to get a quick look at your data"
   ]
  },
  {
   "cell_type": "markdown",
   "metadata": {},
   "source": [
    "##### Add a project to associate with your data"
   ]
  },
  {
   "cell_type": "code",
   "execution_count": null,
   "metadata": {},
   "outputs": [],
   "source": [
    "help(client.add_project(project_info)"
   ]
  },
  {
   "cell_type": "code",
   "execution_count": null,
   "metadata": {},
   "outputs": [],
   "source": [
    "client.add_project(project_info = {\"project_id\":\"AUM_DEMO\",\n",
    "                                   \"organization\":\"Summer School\",\n",
    "                                   \"project_lead_email\":\"mkwall@lbl.gov\"})"
   ]
  },
  {
   "cell_type": "markdown",
   "metadata": {},
   "source": [
    "#### Step 4: Use the Crucible python client to upload and ingest a photo of the batch as a dataset"
   ]
  },
  {
   "cell_type": "code",
   "execution_count": null,
   "metadata": {},
   "outputs": [],
   "source": [
    "metadata_to_add = {'comments': 'this is a fake dataset', \n",
    "                   'weather': 'sunny',\n",
    "                   'iphone_version': 11\n",
    "                  }"
   ]
  },
  {
   "cell_type": "code",
   "execution_count": null,
   "metadata": {},
   "outputs": [],
   "source": [
    "batch_name = 'S-pMeMBAI-pre-2'\n",
    "data_folder = \"tutorial_data/photo_captures\"\n",
    "p1 = os.path.join(data_folder, 'DSC_0001.jpg')\n",
    "p2 = os.path.join(data_folder, 'DSC_0002.jpg')\n",
    "ds = client.build_new_dataset_from_file(files_to_upload = [p1, p2],\n",
    "                                        dataset_name = 'S-pMeMBAI-pre-photo-capture',\n",
    "                                        project_id = \"AUM_DEMO\",\n",
    "                                        owner_orcid = None,\n",
    "                                        instrument_name = \"PhotoBox\",\n",
    "                                        measurement = \"iphone_capture\",\n",
    "                                        session_name = 'S-pMeMBAI-pre-2', \n",
    "                                        creation_time = None,\n",
    "                                        source_folder = data_folder,\n",
    "                                        scientific_metadata = metadata_to_add,\n",
    "                                        keywords = [batch_name], \n",
    "                                        ingestor = 'ImageIngestor',\n",
    "                                        verbose = False, \n",
    "                                        wait_for_ingestion_response = True)"
   ]
  },
  {
   "cell_type": "markdown",
   "metadata": {},
   "source": [
    "#### Step 4: Link this new dataset to the batch it is associated with "
   ]
  },
  {
   "cell_type": "code",
   "execution_count": null,
   "metadata": {},
   "outputs": [],
   "source": [
    "client.add_dataset_to_sample(dataset_id = '0t4pvp3s1dvc30006g6t6fq7qc', sample_id = batch_id)"
   ]
  },
  {
   "cell_type": "code",
   "execution_count": null,
   "metadata": {},
   "outputs": [],
   "source": [
    "client.list_datasets(sample_id = batch_id)"
   ]
  },
  {
   "cell_type": "markdown",
   "metadata": {},
   "source": [
    "#### Step 5: Add Additional Metadata to Samples\n",
    "\n",
    "Demonstrate how to add custom metadata to individual samples."
   ]
  },
  {
   "cell_type": "code",
   "execution_count": null,
   "metadata": {},
   "outputs": [],
   "source": [
    "from pydantic import BaseModel\n",
    "class SpinbotSampleMetadata(BaseModel):\n",
    "    sample_id: str\n",
    "    spin_duration_s:\n",
    "    spin_velocity_rpm:\n",
    "    dispense_delay_s:\n",
    "    pipette_height_mm:\n",
    "    dispense_speed_ul_s:\n",
    "    precursor_b_volume_ul:\n",
    "    annealing_duration_s:\n",
    "    molar_ratio_fai_macl:\n",
    "\n",
    "client.add_sample_metadata(sample_id = batch_id, metadata = {**spinbot_batch_md})"
   ]
  },
  {
   "cell_type": "markdown",
   "metadata": {},
   "source": [
    "#### Step 7: Download the data associated with a batch\n",
    "\n",
    "Download all datasets associated with a batch."
   ]
  },
  {
   "cell_type": "code",
   "execution_count": null,
   "metadata": {},
   "outputs": [],
   "source": [
    "datasets_in_batch = client.list_datasets(sample_id = batch_id)\n",
    "for ds in datasets_in_batch:\n",
    "    print()\n",
    "    client.download_dataset(dsid = ds['unique_id'])"
   ]
  },
  {
   "cell_type": "markdown",
   "metadata": {},
   "source": [
    "#### Step 8: Generate a Batch Report Card"
   ]
  },
  {
   "cell_type": "code",
   "execution_count": null,
   "metadata": {},
   "outputs": [],
   "source": []
  }
 ],
 "metadata": {
  "kernelspec": {
   "display_name": "Python 3 (ipykernel)",
   "language": "python",
   "name": "python3"
  },
  "language_info": {
   "codemirror_mode": {
    "name": "ipython",
    "version": 3
   },
   "file_extension": ".py",
   "mimetype": "text/x-python",
   "name": "python",
   "nbconvert_exporter": "python",
   "pygments_lexer": "ipython3",
   "version": "3.12.6"
  }
 },
 "nbformat": 4,
 "nbformat_minor": 4
}
