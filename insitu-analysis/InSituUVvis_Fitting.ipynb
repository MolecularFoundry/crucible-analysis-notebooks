{
  "cells": [
    {
      "cell_type": "markdown",
      "metadata": {
        "id": "view-in-github",
        "colab_type": "text"
      },
      "source": [
        "<a href=\"https://colab.research.google.com/github/MolecularFoundry/crucible-analysis-notebooks/blob/main/insitu-analysis/InSituUVvis_Fitting.ipynb\" target=\"_parent\"><img src=\"https://colab.research.google.com/assets/colab-badge.svg\" alt=\"Open In Colab\"/></a>"
      ]
    },
    {
      "cell_type": "code",
      "execution_count": null,
      "id": "94e1fcd7-9c32-401a-b3c5-e022cc416d7e",
      "metadata": {
        "id": "94e1fcd7-9c32-401a-b3c5-e022cc416d7e"
      },
      "outputs": [],
      "source": [
        "import numpy as np\n",
        "import pandas as pd\n",
        "import glob\n",
        "import matplotlib.pyplot as plt\n",
        "from matplotlib import ticker\n",
        "from scipy.optimize import curve_fit\n",
        "from scipy.signal import savgol_filter\n",
        "from scipy import signal\n",
        "from scipy.signal import argrelextrema\n",
        "\n",
        "import copy\n",
        "import os\n",
        "import traceback\n"
      ]
    },
    {
      "cell_type": "code",
      "execution_count": null,
      "id": "416da37a-5cd6-4ef9-9c13-1994aaa6b627",
      "metadata": {
        "id": "416da37a-5cd6-4ef9-9c13-1994aaa6b627"
      },
      "outputs": [],
      "source": [
        "# ================Functions=================================================\n",
        "def decayGauss(x, a1, x1, w1, y0, a2, x2, t, a3):\n",
        "    return y0 + a1 * np.exp(-(x - x1) ** 2 / w1) + a2 * np.exp(-(x - x2) * t) + a3 * x\n",
        "\n",
        "def gauss(x, a1, x1, w1, y0):\n",
        "    return y0 + a1 * np.exp(-(x - x1) ** 2 / w1)\n",
        "\n",
        "def doubleGauss(x, a1, x1, w1, y0, a2, x2, w2, a3, x3, t, a4):\n",
        "    return y0 + a1 * np.exp(-(x - x1) ** 2 / w1) + a2 * np.exp(-(x - x2) ** 2 / w2) + a3 * np.exp(-(x - x3) * t) + a4 * x\n",
        "\n",
        "def tripleGauss(x, a1, x1, w1, y0, a2, x2, w2, a3, x3, w3):\n",
        "    return y0 + a1 * np.exp(-(x - x1) ** 2 / w1) + a2 * np.exp(-(x - x2) ** 2 / w2) + a3 * np.exp(-(x - x3) ** 2 / w3)\n"
      ]
    },
    {
      "cell_type": "code",
      "source": [
        "# mount your google drives\n",
        "from google.colab import drive\n",
        "drive.mount('/content/drive')"
      ],
      "metadata": {
        "id": "ufr9Z_rzw_Bg"
      },
      "id": "ufr9Z_rzw_Bg",
      "execution_count": null,
      "outputs": []
    },
    {
      "cell_type": "code",
      "execution_count": null,
      "id": "2ad37f45-6f3f-4004-8f7a-191086e00bd4",
      "metadata": {
        "id": "2ad37f45-6f3f-4004-8f7a-191086e00bd4"
      },
      "outputs": [],
      "source": [
        "inputDict = {\n",
        "              \"energyScale\" : False,\n",
        "              \"bkgCorr\" : True,\n",
        "\n",
        "              # Fit-parameters\n",
        "              \"estPeakPos\" : 390,\n",
        "              \"estPeakPos2\" : 320,\n",
        "              \"estPeakPos3\" : 620,\n",
        "              \"estPeakWidth\": 10\n",
        "               }"
      ]
    },
    {
      "cell_type": "markdown",
      "id": "bb8eb0cc-9e56-47e7-8eb4-1a7190dd73b1",
      "metadata": {
        "id": "bb8eb0cc-9e56-47e7-8eb4-1a7190dd73b1"
      },
      "source": [
        "### Load and View Sample"
      ]
    },
    {
      "cell_type": "code",
      "source": [
        "project_id = \"MFP08449 (1)\"\n",
        "sample_options = glob.glob(f\"/content/drive/Shareddrives/{project_id}/Datasets/*/*_dataframe.csv\")\n",
        "print(\"Samples found at the path above are: \")\n",
        "for s in sample_options:\n",
        "  print(s)"
      ],
      "metadata": {
        "id": "ru1OEqexxa-C",
        "collapsed": true
      },
      "id": "ru1OEqexxa-C",
      "execution_count": null,
      "outputs": []
    },
    {
      "cell_type": "code",
      "execution_count": null,
      "id": "a4c5694f-ed76-4e13-956c-184db0dbfb0b",
      "metadata": {
        "id": "a4c5694f-ed76-4e13-956c-184db0dbfb0b"
      },
      "outputs": [],
      "source": [
        "sample_path = \"/content/drive/Shareddrives/MFP08449 (1)/Datasets/0sprqkja99vjh0005y13zmnxnw/USt_Raj_Ref_Annealing50_dataframe.csv\" # copy path from output above\n",
        "sample_name = os.path.basename(sample_path).split(\"_dataframe.csv\")[0]"
      ]
    },
    {
      "cell_type": "code",
      "execution_count": null,
      "id": "e189a453-b707-479d-b9ff-f596b1ab6556",
      "metadata": {
        "id": "e189a453-b707-479d-b9ff-f596b1ab6556"
      },
      "outputs": [],
      "source": [
        "df = pd.read_csv(f\"{sample_path}\", index_col = \"wl\")\n",
        "\n",
        "num_sort = [str(x) for x in sorted([float(x) for x in df.columns])]\n",
        "df = df.reindex(num_sort, axis=1)\n",
        "\n",
        "# load and convert to arrays\n",
        "df_y = np.array(df.index)\n",
        "df_x = np.array([float(x) for x in df.columns])\n",
        "\n",
        "df = df.to_numpy()\n",
        "df = np.where(df <= 0, 0, df)\n",
        "df = -np.log10(df / 100)\n",
        "\n",
        "\n",
        "# transition to energy scale of the y axis\n",
        "if inputDict['energyScale'] == True:\n",
        "    df_y = [1240 / i for i in df_y]\n",
        "    estPeakPos = 1240 / inputDict[\"estPeakPos\"]\n",
        "    estPeakPos2 = 1240 / inputDict[\"estPeakPos2\"]\n",
        "    estPeakPos3 = 1240 / inputDict[\"estPeakPos3\"]\n",
        "    estPeakWidth = inputDict[\"estPeakWidth\"]\n",
        "\n",
        "    # Jacobian transformation for all measured PL values (basically dividing by E^2)\n",
        "    for i in range(np.shape(df)[1]):\n",
        "        df[:, i] = df[:, i] / df_y / df_y\n",
        "\n",
        "    # Mirroring dataframes to prevent sorting issues\n",
        "    df_y = np.flip(df_y)\n",
        "    df = np.flip(df, axis=0)\n",
        "\n",
        "    yAxisLabel = 'Energy (eV)'\n",
        "\n",
        "else:\n",
        "    yAxisLabel = 'Wavelength (nm)'\n",
        "\n",
        "# Simple plot of the data\n",
        "plot_name = f\"{sample_name}_2D_Plot.png\"\n",
        "\n",
        "plt.figure(1)\n",
        "plt.contourf(df_x, df_y, df, 20, cmap=plt.cm.jet)\n",
        "\n",
        "# Make a colorbar for the ContourSet\n",
        "cbar = plt.colorbar()\n",
        "cbar.ax.set_ylabel('Intensity (a.u.)')\n",
        "\n",
        "# adding labels\n",
        "plt.xlabel('Time (s)')\n",
        "plt.ylabel(yAxisLabel)\n",
        "plt.title(plot_name.strip(\".png\"))\n",
        "\n",
        "plt.savefig(plot_name)"
      ]
    },
    {
      "cell_type": "markdown",
      "id": "d46ad438-38ce-47ae-9ca1-740e79ffc1df",
      "metadata": {
        "id": "d46ad438-38ce-47ae-9ca1-740e79ffc1df"
      },
      "source": [
        "### (Optional) Run Background Subtraction"
      ]
    },
    {
      "cell_type": "code",
      "execution_count": null,
      "id": "16e2d423-8ccf-4dee-a683-8bbffc8bfdff",
      "metadata": {
        "id": "16e2d423-8ccf-4dee-a683-8bbffc8bfdff"
      },
      "outputs": [],
      "source": [
        "# define the following in eV or nm ( you can pick a range on either side of the peak )\n",
        "\n",
        "# background correction range 1 start/end value\n",
        "y_bkgStart1 =0\n",
        "y_bkgEnd1 = 1\n",
        "\n",
        "# background correction range 2 start/end value\n",
        "y_bkgStart2 = 3\n",
        "y_bkgEnd2 = 5"
      ]
    },
    {
      "cell_type": "code",
      "execution_count": null,
      "id": "83b2eac8-632e-46a7-8db3-8c1f119d43a6",
      "metadata": {
        "id": "83b2eac8-632e-46a7-8db3-8c1f119d43a6"
      },
      "outputs": [],
      "source": [
        "# run bkgd subtraction\n",
        "l_bkgStart1 = next(xStart for xStart, valStart in enumerate(df_y) if valStart > y_bkgStart1)\n",
        "l_bkgEnd1 = next(xEnd for xEnd, valEnd in enumerate(df_y) if valEnd > y_bkgEnd1) - 1\n",
        "l_bkgStart2 = next(xStart for xStart, valStart in enumerate(df_y) if valStart > y_bkgStart2)\n",
        "l_bkgEnd2 = next(xEnd for xEnd, valEnd in enumerate(df_y) if valEnd > y_bkgEnd2) - 1\n",
        "\n",
        "for i in range(0, len(df_x)):\n",
        "    xVals = np.concatenate([df_y[l_bkgStart1:l_bkgEnd1], df_y[l_bkgStart2:l_bkgEnd2]])\n",
        "    yVals = np.concatenate([df[l_bkgStart1:l_bkgEnd1, i], df[l_bkgStart2:l_bkgEnd2, i]])\n",
        "    coefs = np.polyfit(xVals, yVals, 1)  # The last parameter determines the order of the polynomial fit (0=const)\n",
        "    poly1d_fn = np.poly1d(coefs)\n",
        "    df[:, i] = df[:, i] - poly1d_fn(df_y[:])"
      ]
    },
    {
      "cell_type": "markdown",
      "id": "cb84d7b6-5179-419c-90aa-2fd478a10f04",
      "metadata": {
        "id": "cb84d7b6-5179-419c-90aa-2fd478a10f04"
      },
      "source": [
        "### Plot Region of Interest"
      ]
    },
    {
      "cell_type": "code",
      "execution_count": null,
      "id": "8369b8d2-4bfe-4ca7-a2dc-29879df4d8fd",
      "metadata": {
        "id": "8369b8d2-4bfe-4ca7-a2dc-29879df4d8fd"
      },
      "outputs": [],
      "source": [
        "# define the following\n",
        "startTime = 0.0\n",
        "\n",
        "# Wavelength/Energy region to be plotted\n",
        "y_start = 300\n",
        "y_end = 400"
      ]
    },
    {
      "cell_type": "code",
      "execution_count": null,
      "id": "ad67d51c-7494-4d4d-a22c-20f922eb3954",
      "metadata": {
        "id": "ad67d51c-7494-4d4d-a22c-20f922eb3954"
      },
      "outputs": [],
      "source": [
        "# run\n",
        "startTimeIdx = next(tStart for tStart, valStart in enumerate(df_x) if valStart > startTime)\n",
        "l_start = next(xStart for xStart, valStart in enumerate(df_y) if valStart > y_start)\n",
        "l_end = next(xEnd for xEnd, valEnd in enumerate(df_y) if valEnd > y_end) - 1\n",
        "\n",
        "# shortening the wavelength/energy region to interesting region\n",
        "df_cut = df[l_start:l_end+1, startTimeIdx:]\n",
        "\n",
        "# same shortening for the Y-axis and X-axis arrays\n",
        "df_yCut = df_y[l_start:l_end+1]\n",
        "df_xCut = df_x[startTimeIdx:]\n",
        "df_xCut = df_xCut - startTime\n",
        "\n",
        "\n",
        "# Show the resulting data\n",
        "plt.figure(2)\n",
        "plt.contourf(df_xCut, df_yCut, df_cut, 20, cmap=plt.cm.jet)\n",
        "# Make a colorbar for the ContourSet\n",
        "cbar = plt.colorbar()\n",
        "cbar.ax.set_ylabel('Intensity (a.u.)')\n",
        "# adding labels\n",
        "plt.xlabel('Time (s)')\n",
        "plt.ylabel(yAxisLabel)\n",
        "plt.title(str(sample_name) + ' _2D_Plot')\n",
        "plt.pause(1)"
      ]
    },
    {
      "cell_type": "markdown",
      "source": [
        "### Saving the Results\n",
        "Optimizing the data for plots in Igor"
      ],
      "metadata": {
        "id": "KeT0T94OMnRD"
      },
      "id": "KeT0T94OMnRD"
    },
    {
      "cell_type": "code",
      "source": [
        "# Optimizing data for plots in Igor\n",
        "df_Igor = np.transpose(df_cut)\n",
        "df_xIgor = np.insert(df_xCut, 0, 0)  # Adding a 0 as first element to accommodate for igor plot and link the timescale to zero for nice plots.\n",
        "df_yIgor = np.append(df_yCut, df_yCut[-1]+df_yCut[-1]-df_yCut[-2])"
      ],
      "metadata": {
        "id": "2-QO9P4uMmNy"
      },
      "id": "2-QO9P4uMmNy",
      "execution_count": null,
      "outputs": []
    },
    {
      "cell_type": "code",
      "source": [
        "result_path = os.path.join(os.path.dirname(sample_path), \"fits\")\n",
        "try:\n",
        "  os.mkdir(result_path)\n",
        "except Exception as e:\n",
        "  if not isinstance(e, FileExistsError):\n",
        "    print(type(e))\n",
        "\n",
        "\n",
        "np.savetxt(f'{result_path}/{sample_name}_2D.csv', df_Igor, delimiter=\",\")\n",
        "np.savetxt(f'{result_path}/{sample_name}_time.csv', df_xIgor, delimiter=\",\", header='Time_' + sample_name, comments='')\n",
        "np.savetxt(f'{result_path}/{sample_name}_wavelength.csv', df_yIgor, delimiter=\",\", header='WL_' + sample_name, comments='')\n",
        "np.savetxt(f'{result_path}/{sample_name}_LastSpectrum.csv', df_Igor[-1, :], delimiter=\",\", header='LastSpectrum_' + sample_name, comments='')"
      ],
      "metadata": {
        "id": "RoPHuJhkM9j8"
      },
      "id": "RoPHuJhkM9j8",
      "execution_count": null,
      "outputs": []
    },
    {
      "cell_type": "markdown",
      "id": "fbeba5f0-3232-43d5-9c5e-69f8f35e27f0",
      "metadata": {
        "id": "fbeba5f0-3232-43d5-9c5e-69f8f35e27f0"
      },
      "source": [
        "### Fit the Data"
      ]
    }
  ],
  "metadata": {
    "kernelspec": {
      "display_name": "Python 3 (ipykernel)",
      "language": "python",
      "name": "python3"
    },
    "language_info": {
      "codemirror_mode": {
        "name": "ipython",
        "version": 3
      },
      "file_extension": ".py",
      "mimetype": "text/x-python",
      "name": "python",
      "nbconvert_exporter": "python",
      "pygments_lexer": "ipython3",
      "version": "3.10.13"
    },
    "colab": {
      "provenance": [],
      "include_colab_link": true
    }
  },
  "nbformat": 4,
  "nbformat_minor": 5
}